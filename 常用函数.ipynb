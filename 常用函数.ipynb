{
 "nbformat": 4,
 "nbformat_minor": 2,
 "metadata": {
  "language_info": {
   "name": "python",
   "codemirror_mode": {
    "name": "ipython",
    "version": 3
   }
  },
  "orig_nbformat": 2,
  "file_extension": ".py",
  "mimetype": "text/x-python",
  "name": "python",
  "npconvert_exporter": "python",
  "pygments_lexer": "ipython3",
  "version": 3
 },
 "cells": [
  {
   "cell_type": "code",
   "execution_count": 58,
   "metadata": {},
   "outputs": [],
   "source": [
    "import numpy as np\n",
    "import sys\n",
    "from matplotlib.pyplot import plot\n",
    "from matplotlib.pyplot import show\n"
   ]
  },
  {
   "cell_type": "markdown",
   "execution_count": null,
   "metadata": {},
   "outputs": [],
   "source": [
    "# 文件读写\n",
    "np.savetxt()  \n",
    "np.loadtxt()"
   ]
  },
  {
   "cell_type": "code",
   "execution_count": 2,
   "metadata": {},
   "outputs": [],
   "source": [
    "a = np.eye(3)\n",
    "a"
   ]
  },
  {
   "cell_type": "code",
   "execution_count": 3,
   "metadata": {},
   "outputs": [],
   "source": [
    "np.savetxt(\"eye.txt\", a)"
   ]
  },
  {
   "cell_type": "code",
   "execution_count": 4,
   "metadata": {},
   "outputs": [],
   "source": [
    "b = np.loadtxt('eye.txt')\n",
    "b"
   ]
  },
  {
   "cell_type": "code",
   "execution_count": 5,
   "metadata": {},
   "outputs": [],
   "source": [
    "c = np.loadtxt('data.csv', delimiter=',', usecols=(6,7), unpack=True)\n",
    "# delimiter 设置分隔符\n",
    "# usecols   获取字段\n",
    "# unpack    拆分储存不同列的数据\n",
    "c"
   ]
  },
  {
   "cell_type": "markdown",
   "execution_count": null,
   "metadata": {},
   "outputs": [],
   "source": [
    "# 常用函数\n",
    "np.where()  #　根据指定的条件返回所有满足条件的数组元素的索引值,返回的是一个多元数组  \n",
    "np.take()   #　获取指定索引值相应的元素值  \n",
    "np.argmax() #　数组中最大元素的索引值  \n",
    "np.argmax() #　数组中最大元素的索引值  \n",
    "np.apply_along_axis(） # 调用另外一个由我们给出的函数,作用于每一个数组元素上  \n",
    "np.maximum() # 在一组数组之间按照元素挑选最大值  \n",
    "np.minimum() # 在一组数组之间按照元素挑选最小值  \n",
    "np.linalg.lstsq(A, b) #　返回Ax=b的系数向量 x 、一个残差数组、 A 的秩以及 A 的奇异值  \n",
    "np.intersect1d()    # 函数返回一个由两个数组的所有公共元素构成的数组"
   ]
  },
  {
   "cell_type": "markdown",
   "execution_count": null,
   "metadata": {},
   "outputs": [],
   "source": [
    "# 计算函数\n",
    "np.average()    # 平均值    \n",
    "np.mean()   ＃　算术平均值  \n",
    "np.max()    ＃　最大值  \n",
    "np.min()    ＃　最小值  \n",
    "np.ptp()    ＃　取值范围，返回max()-min()   \n",
    "np.median() ＃　中位数，长度为偶数的数组,中位数的值应该等于中间那两个数的平均值  \n",
    "np.msort()  #　数组排序    \n",
    "np.var()    #　方差   \n",
    "np.std()    #　标准差  \n",
    "np.diff()   #　返回一个由相邻数组元素的差值构成的数组   \n",
    "np.log()    #　取对数  \n",
    "np.where()  #　根据指定的条件返回所有满足条件的数组元素的索引值  \n",
    "np.sqrt()   #　平方根（使用浮点数除法）  \n",
    "np.convolve(） # 一维卷积  \n",
    "np.exp()    # 函数可以计算出每个数组元素的指数  \n",
    "np.linspace()  # 返回一个元素值在指定的范围内均匀分布的数组  \n",
    "np.dot()    # 点积  \n",
    ".prod   # 计算数组中所有元素的乘积  \n",
    ".cumprod    # 计算数组元素的累积乘积  "
   ]
  },
  {
   "cell_type": "markdown",
   "execution_count": null,
   "metadata": {},
   "outputs": [],
   "source": [
    "---\n",
    "# 动手实践"
   ]
  },
  {
   "cell_type": "markdown",
   "execution_count": null,
   "metadata": {},
   "outputs": [],
   "source": [
    "## 简单统计分析"
   ]
  },
  {
   "cell_type": "code",
   "execution_count": 6,
   "metadata": {},
   "outputs": [],
   "source": [
    "c=np.loadtxt(\"NumPy Learning/Code/ch3code/data.csv\", delimiter=',', usecols=(6,), unpack=True)\n",
    "print(\"median =\", np.median(c))\n",
    "sorted = np.msort(c)\n",
    "print(\"sorted =\", sorted)\n",
    "N = len(c)\n",
    "# list　和　ndarray 的索引都必须是整数\n",
    "# // 取整除，返回商的整数部分（向下取整）\n",
    "print(\"middle =\", sorted[ (N-1) // 2 ])\n",
    "print(\"average middle =\", (sorted[N // 2] + sorted[(N - 1) //2]) / 2)\n",
    "print(\"variance =\", np.var(c))\n",
    "print(\"variance from definition =\", np.mean((c - c.mean())**2))\n"
   ]
  },
  {
   "cell_type": "markdown",
   "execution_count": null,
   "metadata": {},
   "outputs": [],
   "source": [
    "## 分析股票收益率"
   ]
  },
  {
   "cell_type": "code",
   "execution_count": 7,
   "metadata": {},
   "outputs": [],
   "source": [
    "c=np.loadtxt('NumPy Learning/Code/ch3code/data.csv', delimiter=',', usecols=(6,), unpack=True)\n",
    "\n",
    "# 简单收益率\n",
    "# c[:-1] 从c[0]开始到c[-1-1]结束,这样去掉了最后一个元素\n",
    "# ndarray 数组相除，数组中的对应元素依次相除\n",
    "returns = np.diff( c ) / c[ : -1]\n",
    "# 标准差\n",
    "print(\"Standard deviation =\", np.std(returns))\n",
    "# 对数收益率\n",
    "logreturns = np.diff( np.log(c) )\n",
    "\n",
    "# 哪些交易日的收益率为正值\n",
    "posretindices = np.where(returns > 0)\n",
    "print(\"Indices with positive returns\", posretindices)\n",
    "\n",
    "# 年波动率等于对数收益率的标准差除以其均值,再除以交易日倒数的平方根\n",
    "annual_volatility = np.std(logreturns)/np.mean(logreturns)\n",
    "annual_volatility = annual_volatility / np.sqrt(1./252.)\n",
    "print(\"Annual volatility\", annual_volatility)\n",
    "# 月波动率\n",
    "print(\"Monthly volatility\", annual_volatility * np.sqrt(1./12.))"
   ]
  },
  {
   "cell_type": "markdown",
   "execution_count": null,
   "metadata": {},
   "outputs": [],
   "source": [
    "## 分析日期数据\n",
    "首先,我们要读入收盘价数据。随后,根据星期几来切分收盘价数据,并分别计算平均价格。\n",
    "最后,我们将找出一周中哪一天的平均收盘价最高,哪一天的最低。"
   ]
  },
  {
   "cell_type": "code",
   "execution_count": 9,
   "metadata": {},
   "outputs": [],
   "source": [
    "from datetime import datetime\n",
    "# 星期一 0\n",
    "# 星期二 1\n",
    "# 星期三 2\n",
    "# 星期四 3\n",
    "# 星期五 4\n",
    "# 星期六 5\n",
    "# 星期日 6\n",
    "def datestr2num(s):\n",
    "    # 是以二进制编码的格式打开第二列值是，返回的值字节字符串bytes，所以需要把它变回string，则对字符串解码用函数decode('asii')，变成string格式。\n",
    "    return datetime.strptime(s.decode('ascii'),'%d-%m-%Y').date().weekday()\n",
    "\n",
    "# converters 是一个字典, 表示第1列使用函数datestr2num来进行预处理\n",
    "dates, close=np.loadtxt('NumPy Learning/Code/ch3code/data.csv', delimiter=',', usecols=(1,6), converters={1:datestr2num}, unpack=True)\n",
    "print(\"Dates =\", dates)\n",
    "\n",
    "averages = np.zeros(5)\n",
    "for i in range(5):\n",
    "    indices = np.where(dates == i)\n",
    "    # 用 take 函数获取这些索引值相应的元素值\n",
    "    prices = np.take(close, indices)\n",
    "    avg = np.mean(prices)\n",
    "    print(\"Day\", i, \"prices\", prices, \"Average\", avg)\n",
    "    averages[i] = avg\n",
    "\n",
    "# 找出哪个工作日的平均收盘价是最高的,哪个是最低的\n",
    "top = np.max(averages)\n",
    "print(\"Highest average\", top)\n",
    "# argmax 函数返回的是 averages 数组中最大元素的索引值\n",
    "print(\"Top day of the week\", np.argmax(averages))\n",
    "bottom = np.min(averages)\n",
    "print(\"Lowest average\", bottom)\n",
    "# argmin 函数返回的是 averages 数组中最小元素的索引值\n",
    "print(\"Bottom day of the week\", np.argmin(averages))"
   ]
  },
  {
   "cell_type": "markdown",
   "execution_count": null,
   "metadata": {},
   "outputs": [],
   "source": [
    "## 周汇总"
   ]
  },
  {
   "cell_type": "code",
   "execution_count": 26,
   "metadata": {},
   "outputs": [],
   "source": [
    "dates, open, high, low, close = np.loadtxt('NumPy Learning/Code/ch3code/data.csv', delimiter=',', converters={1:datestr2num}, usecols=(1,3,4,5,6), unpack=True)\n",
    "# 只取前3周\n",
    "close = close[:16]\n",
    "dates = dates[:16]\n",
    "\n",
    "# 找到第一个周一\n",
    "first_Monday = np.ravel(np.where(dates == 0))[0]\n",
    "print(\"The first Monday index is\", first_Monday)\n",
    "# 找到最后一个周五\n",
    "last_Friday = np.ravel(np.where(dates == 4))[-1]\n",
    "print(\"The last Friday index is\", last_Friday)\n",
    "\n",
    "# 存储三周内每一天的索引值\n",
    "weeks_indices = np.arange(first_Monday, last_Friday+1)\n",
    "print(\"Weeks indices initial\", weeks_indices)\n",
    "# 按周切分\n",
    "weeks_indices = np.split(weeks_indices, 3)\n",
    "print(\"Weeks indices after split\", weeks_indices)\n",
    "\n",
    "# summarize 函数\n",
    "# 将为每一周的数据返回一个元组,包含这一周的开盘价、最高价、最低价和收盘价,类似于每天的盘后数据\n",
    "def summarize(object, open, high, low, close):\n",
    "    monday_open = open[object[0]]\n",
    "    week_hight = np.max(np.take(high, object))\n",
    "    week_low = np.min(np.take(low, object))\n",
    "    friday_close = close[object[-1]]\n",
    "\n",
    "    return(\"APPL\", monday_open, week_hight,week_low,friday_close)\n",
    "\n",
    "# apply_along_axis 函数会调用另外一个由我们给出的函数,作用于每一个数组元素上\n",
    "#在调用apply_along_axis 时提供我们自定义的函数名 summarize ,并指定要作用的轴或维度的编号(如取1)、目标数组以及可变数量的 summarize 函数的参数\n",
    "weeksummary = np.apply_along_axis(summarize, 1, weeks_indices, open, high, low, close)\n",
    "print(\"Week summary\", weeksummary)\n",
    "\n",
    "# 保存\n",
    "# fmt 保存的格式\n",
    "np.savetxt(\"NumPy Learning/weeksummary.csv\", weeksummary, delimiter=\",\", fmt=\"%s\")"
   ]
  },
  {
   "cell_type": "markdown",
   "execution_count": null,
   "metadata": {},
   "outputs": [],
   "source": [
    "## 真实波动幅度均值(ATR)"
   ]
  },
  {
   "cell_type": "code",
   "execution_count": 30,
   "metadata": {},
   "outputs": [],
   "source": [
    "high, low, close = np.loadtxt(\"NumPy Learning/Code/ch3code/data.csv\", delimiter=',', usecols=(4,5,6), unpack=True)\n",
    "\n",
    "# sys.argv 从程序外部获取参数的桥梁\n",
    "# 0 程序地址    1 输入的第一个参数\n",
    "# N = int(sys.argv[1])\n",
    "N =20\n",
    "# 取最近N个交易日\n",
    "high = high[-N:]\n",
    "low = low[-N]\n",
    "# 前一个交易日的收盘价\n",
    "previousclose = close[-N-1:-1]\n",
    "\n",
    "# 当日股价范围 当日最高价和前一个交易日收盘价之差 前一个交易日收盘价和当日最低价之差\n",
    "# maximum 函数 在一组数组之间按照元素挑选最大值——也就是在所有的数组中第一个元素的最大值、第二个元素的最大值等\n",
    "truerange = np.maximum(high-low, high-previousclose, previousclose-low)\n",
    "\n",
    "atr = np.zeros(N)\n",
    "atr[0] = np.mean(truerange)\n",
    "\n",
    "# ATR = [(N-1)PATR+TR]/N\n",
    "for i in range(1,N):\n",
    "    atr[i] = (N-1) * atr[i-1] + truerange[i]\n",
    "    atr[i] /= N\n",
    "\n",
    "print(\"ATR\", atr)"
   ]
  },
  {
   "cell_type": "markdown",
   "execution_count": null,
   "metadata": {},
   "outputs": [],
   "source": [
    "## 简单移动平均线\n",
    "\n",
    "一维卷积  \n",
    "np.convolve(\\[1,2,3],\\[0,1,0.5])  \n",
    "  \n",
    "0 0 1 2 3 0 0  \n",
    "0.5 1 0  \n",
    "array(\\[0. , 1. , 2.5, 4. , 1.5])  \n",
    "\n",
    "消除边际效应  \n",
    "np.convolve(\\[1,2,3],\\[0,1,0.5],'valid')  \n",
    "array(\\[1. , 2.5, 4. ])  \n"
   ]
  },
  {
   "cell_type": "code",
   "execution_count": 55,
   "metadata": {},
   "outputs": [],
   "source": [
    "N = 5\n",
    "weights = np.ones(N) / N\n",
    "print(\"Weights\", weights)\n",
    "\n",
    "c = np.loadtxt(\"NumPy Learning/Code/ch3code/data.csv\", delimiter=',', usecols=(6), unpack=True )\n",
    "sma = np.convolve(c, weights, 'valid')\n",
    "\n",
    "t = np.arange(N-1, len(c))\n",
    "plot(t, c[N-1:], lw=1.0)\n",
    "plot(t, sma, lw=2.0)\n",
    "show()"
   ]
  },
  {
   "cell_type": "markdown",
   "execution_count": null,
   "metadata": {},
   "outputs": [],
   "source": [
    "## 指数移动平均线\n",
    "指数移动平均线使用的权重是指数衰减的  \n",
    "exp 函数可以计算出每个数组元素的指数  \n",
    "linspace 函数 返回一个元素值在指定的范围内均匀分布的数组"
   ]
  },
  {
   "cell_type": "code",
   "execution_count": 56,
   "metadata": {},
   "outputs": [],
   "source": [
    "N = 5\n",
    "weights = np.exp(np.linspace(-1., 0., N))\n",
    "# 归一化\n",
    "weights /= weights.sum()   \n",
    "print(\"Weights\", weights)\n",
    "\n",
    "c = np.loadtxt(\"NumPy Learning/Code/ch3code/data.csv\", delimiter=',', usecols=(6,), unpack=True)\n",
    "ema = np.convolve(c, weights, 'valid')\n",
    "\n",
    "t = np.arange(N-1, len(c))\n",
    "plot(t, c[N-1:], lw=1.0)\n",
    "plot(t, ema, lw=2.0)\n",
    "show()"
   ]
  },
  {
   "cell_type": "markdown",
   "execution_count": null,
   "metadata": {},
   "outputs": [],
   "source": [
    "## 绘制布林带\n",
    "fill 函数可以将数组元素的值全部设置为一个指定的标量值  "
   ]
  },
  {
   "cell_type": "code",
   "execution_count": 66,
   "metadata": {},
   "outputs": [],
   "source": [
    "N = 5\n",
    "weights = np.exp(np.linspace(-1., 0., N))\n",
    "# 归一化\n",
    "weights /= weights.sum()   \n",
    "print(\"Weights\", weights)\n",
    "\n",
    "c = np.loadtxt(\"NumPy Learning/Code/ch3code/data.csv\", delimiter=',', usecols=(6,), unpack=True)\n",
    "sma = np.convolve(c, weights, 'valid')\n",
    "deviation = []\n",
    "C =len(c)\n",
    "\n",
    "for i in range(N-1,C):\n",
    "    if i+N < C:\n",
    "        dev = c[i:i+N]\n",
    "    else:\n",
    "        dev = c[-N:]\n",
    "\n",
    "    averages = np.zeros(N)\n",
    "    averages.fill(sma[i-N-1])\n",
    "    dev = dev - averages\n",
    "    dev = dev ** 2\n",
    "    dev = np.sqrt(np.mean(dev))\n",
    "    deviation.append(dev)\n",
    "\n",
    "deviation = 2 * np.array(deviation)\n",
    "upperBB = sma + deviation\n",
    "lowerBB = sma - deviation\n",
    "\n",
    "c_slice = c[N-1:]\n",
    "between_bands = np.where((c_slice < upperBB) & (c_slice > lowerBB))\n",
    "\n",
    "print(lowerBB[between_bands])\n",
    "print(c[between_bands])\n",
    "print(upperBB[between_bands])\n",
    "between_bands = len(np.ravel(between_bands))\n",
    "print(\"Ratio between bands\", float(between_bands)/len(c_slice))\n",
    "\n",
    "t = np.arange(N - 1, C)\n",
    "plot(t, c_slice, lw=1.0)\n",
    "plot(t, sma, lw=2.0)\n",
    "plot(t, upperBB, lw=3.0)\n",
    "plot(t, lowerBB, lw=4.0)\n",
    "show()\n"
   ]
  },
  {
   "cell_type": "markdown",
   "execution_count": 35,
   "metadata": {},
   "outputs": [],
   "source": [
    "## 线性模型\n",
    "linalg 包是专门用于线性代数计算的  \n",
    "np.linalg.lstsq(A, b)   #　返回Ax=b的系数向量 x 、一个残差数组、 A 的秩以及 A 的奇异值\n",
    "\n",
    "intersect1d 函数返回一个由两个数组的所有公共元素构成的数组"
   ]
  },
  {
   "cell_type": "code",
   "execution_count": 68,
   "metadata": {},
   "outputs": [],
   "source": [
    "b = c[-N:]\n",
    "b = b[::-1]\n",
    "print(\"b\", b)\n",
    "\n",
    "A = np.zeros((N, N), float)\n",
    "print(\"Zeros N by N\", A)\n",
    "\n",
    "for i in range(N):\n",
    "    A[i, ] = c[-N - 1 - i: - 1 - i]\n",
    "\n",
    "print(\"A\", A)\n",
    "\n",
    "(x, residuals, rank, s) = np.linalg.lstsq(A, b)\n",
    "\n",
    "print(x, residuals, rank, s)\n",
    "print(np.dot(b, x))"
   ]
  },
  {
   "cell_type": "code",
   "execution_count": 71,
   "metadata": {},
   "outputs": [],
   "source": [
    "def fit_line(t, y):\n",
    "    A = np.vstack([t, np.ones_like(t)]).T\n",
    "    return np.linalg.lstsq(A, y)[0]\n",
    "\n",
    "h, l, c = np.loadtxt('NumPy Learning/Code/ch3code/data.csv', delimiter=',', usecols=(4, 5, 6), unpack=True)\n",
    "pivots = (h + l + c ) / 3\n",
    "print(\"Pivots\", pivots)\n",
    "\n",
    "t = np.arange(len(c))\n",
    "sa, sb = fit_line(t, pivots - (h - l))\n",
    "ra, rb = fit_line(t, pivots + (h - l))\n",
    "support = sa * t + sb\n",
    "resistance = ra * t + rb\n",
    "condition = (c > support) & (c < resistance)\n",
    "print(\"Condition\", condition)\n",
    "between_bands = np.where(condition)\n",
    "print(support[between_bands])\n",
    "print(c[between_bands])\n",
    "print(resistance[between_bands])\n",
    "between_bands = len(np.ravel(between_bands))\n",
    "print(\"Number points between bands\", between_bands)\n",
    "print(\"Ratio between bands\", float(between_bands)/len(c))\n",
    "\n",
    "print(\"Tomorrows support\", sa * (t[-1] + 1) + sb)\n",
    "print(\"Tomorrows resistance\", ra * (t[-1] + 1) + rb)\n",
    "\n",
    "a1 = c[c > support]\n",
    "a2 = c[c < resistance]\n",
    "print(\"Number of points between bands 2nd approach\" ,len(np.intersect1d(a1, a2)))\n",
    "\n",
    "plot(t, c)\n",
    "plot(t, support)\n",
    "plot(t, resistance)\n",
    "show()"
   ]
  },
  {
   "cell_type": "markdown",
   "execution_count": null,
   "metadata": {},
   "outputs": [],
   "source": [
    "## 数组的修剪和压缩\n",
    "clip 方法返回一个修剪过的数组,也就是将所有比给定最大值还大的元素全部设为给定\n",
    "的最大值,而所有比给定最小值还小的元素全部设为给定的最小值  \n",
    "compress 方法返回一个根据给定条件筛选后的数组。 "
   ]
  },
  {
   "cell_type": "code",
   "execution_count": 80,
   "metadata": {},
   "outputs": [
    {
     "name": "stdout",
     "output_type": "stream",
     "text": "[0 1 2 3 4] \n Clipped [1 1 2 2 2]\n[0 1 2 3 4] \n Compressed [3 4]\n"
    }
   ],
   "source": [
    "a = np.arange(5)\n",
    "print(a,'\\n',\"Clipped\",a.clip(1,2))\n",
    "print(a,'\\n',\"Compressed\", a.compress(a>2))"
   ]
  },
  {
   "cell_type": "markdown",
   "execution_count": null,
   "metadata": {},
   "outputs": [],
   "source": [
    "## 阶乘\n",
    "prod 方法,可以计算数组中所有元素的乘积  \n",
    "cumprod 方法,计算数组元素的累积乘积"
   ]
  },
  {
   "cell_type": "code",
   "execution_count": 83,
   "metadata": {},
   "outputs": [
    {
     "name": "stdout",
     "output_type": "stream",
     "text": "[1 2 3 4 5 6 7 8] \n Factorial 40320\n[1 2 3 4 5 6 7 8] \n Factorials [    1     2     6    24   120   720  5040 40320]\n"
    }
   ],
   "source": [
    "b = np.arange(1, 9)\n",
    "print(b,'\\n', \"Factorial\", b.prod())\n",
    "print(b,'\\n', \"Factorials\", b.cumprod())"
   ]
  },
  {
   "cell_type": "code",
   "execution_count": null,
   "metadata": {},
   "outputs": [],
   "source": []
  },
  {
   "cell_type": "code",
   "execution_count": null,
   "metadata": {},
   "outputs": [],
   "source": []
  }
 ]
}